{
 "cells": [
  {
   "cell_type": "markdown",
   "id": "83e7ae6f",
   "metadata": {},
   "source": [
    "# python start\n",
    "## python basic\n",
    "### inbild functio\n",
    "\n",
    "- datype"
   ]
  },
  {
   "cell_type": "code",
   "execution_count": 10,
   "id": "d9f015ef",
   "metadata": {},
   "outputs": [],
   "source": [
    "## to find data type"
   ]
  },
  {
   "cell_type": "code",
   "execution_count": 2,
   "id": "356cad1f",
   "metadata": {},
   "outputs": [
    {
     "data": {
      "text/plain": [
       "int"
      ]
     },
     "execution_count": 2,
     "metadata": {},
     "output_type": "execute_result"
    }
   ],
   "source": [
    "type(9)"
   ]
  },
  {
   "cell_type": "code",
   "execution_count": 5,
   "id": "d12e6705",
   "metadata": {},
   "outputs": [
    {
     "data": {
      "text/plain": [
       "bool"
      ]
     },
     "execution_count": 5,
     "metadata": {},
     "output_type": "execute_result"
    }
   ],
   "source": [
    "type(True)"
   ]
  },
  {
   "cell_type": "code",
   "execution_count": 9,
   "id": "87dd1029",
   "metadata": {},
   "outputs": [
    {
     "data": {
      "text/plain": [
       "str"
      ]
     },
     "execution_count": 9,
     "metadata": {},
     "output_type": "execute_result"
    }
   ],
   "source": [
    "type(\"hello\")"
   ]
  },
  {
   "cell_type": "markdown",
   "id": "af4820a2",
   "metadata": {},
   "source": [
    "# string "
   ]
  },
  {
   "cell_type": "code",
   "execution_count": 11,
   "id": "4589b05c",
   "metadata": {},
   "outputs": [
    {
     "data": {
      "text/plain": [
       "'Hello I am imroz'"
      ]
     },
     "execution_count": 11,
     "metadata": {},
     "output_type": "execute_result"
    }
   ],
   "source": [
    "\"Hello I am imroz\""
   ]
  },
  {
   "cell_type": "code",
   "execution_count": 12,
   "id": "c5d52e1d",
   "metadata": {},
   "outputs": [
    {
     "data": {
      "text/plain": [
       "'this is a code'"
      ]
     },
     "execution_count": 12,
     "metadata": {},
     "output_type": "execute_result"
    }
   ],
   "source": [
    "'this is a code'"
   ]
  },
  {
   "cell_type": "code",
   "execution_count": 14,
   "id": "b8fa2b85",
   "metadata": {},
   "outputs": [
    {
     "data": {
      "text/plain": [
       "str"
      ]
     },
     "execution_count": 14,
     "metadata": {},
     "output_type": "execute_result"
    }
   ],
   "source": [
    "type(\"this is a code\")"
   ]
  },
  {
   "cell_type": "markdown",
   "id": "b24f9263",
   "metadata": {},
   "source": [
    "## variable Assigment"
   ]
  },
  {
   "cell_type": "code",
   "execution_count": 16,
   "id": "f47a05b3",
   "metadata": {},
   "outputs": [],
   "source": [
    "a=30"
   ]
  },
  {
   "cell_type": "code",
   "execution_count": 17,
   "id": "6a40ba27",
   "metadata": {},
   "outputs": [
    {
     "data": {
      "text/plain": [
       "int"
      ]
     },
     "execution_count": 17,
     "metadata": {},
     "output_type": "execute_result"
    }
   ],
   "source": [
    "type(a)"
   ]
  },
  {
   "cell_type": "code",
   "execution_count": 19,
   "id": "a245ea9e",
   "metadata": {},
   "outputs": [],
   "source": [
    "a=\"this is the variable\""
   ]
  },
  {
   "cell_type": "code",
   "execution_count": 20,
   "id": "2bf44152",
   "metadata": {},
   "outputs": [
    {
     "data": {
      "text/plain": [
       "str"
      ]
     },
     "execution_count": 20,
     "metadata": {},
     "output_type": "execute_result"
    }
   ],
   "source": [
    "type(a)"
   ]
  },
  {
   "cell_type": "code",
   "execution_count": 23,
   "id": "1c449eb4",
   "metadata": {},
   "outputs": [],
   "source": [
    "## Mathematical operation with variable Assigment\n",
    "\n",
    "a=10\n",
    "b=30"
   ]
  },
  {
   "cell_type": "code",
   "execution_count": 24,
   "id": "1fd41aae",
   "metadata": {},
   "outputs": [
    {
     "name": "stdout",
     "output_type": "stream",
     "text": [
      "300\n",
      "0.3333333333333333\n",
      "10\n",
      "300.3333333333333\n"
     ]
    }
   ],
   "source": [
    "print(a*b)\n",
    "print(a/b)\n",
    "print(a%b)\n",
    "print((a*b)+(a/b))"
   ]
  },
  {
   "cell_type": "code",
   "execution_count": 26,
   "id": "d9181e1c",
   "metadata": {},
   "outputs": [
    {
     "name": "stdout",
     "output_type": "stream",
     "text": [
      "imroz\n"
     ]
    }
   ],
   "source": [
    "# various ways of printing\n",
    "\n",
    "print(\"imroz\")"
   ]
  },
  {
   "cell_type": "code",
   "execution_count": 27,
   "id": "5d8371cf",
   "metadata": {},
   "outputs": [],
   "source": [
    "first_name=\"Imroz\"\n",
    "last_name=\"Ahmad\""
   ]
  },
  {
   "cell_type": "code",
   "execution_count": 37,
   "id": "ba2681a0",
   "metadata": {},
   "outputs": [
    {
     "name": "stdout",
     "output_type": "stream",
     "text": [
      "My first name is Imroz and last name is Ahmad\n"
     ]
    }
   ],
   "source": [
    "print(\"My first name is {} and last name is {}\".format(first_name,last_name))"
   ]
  },
  {
   "cell_type": "code",
   "execution_count": 38,
   "id": "256f6cea",
   "metadata": {},
   "outputs": [
    {
     "name": "stdout",
     "output_type": "stream",
     "text": [
      "My first name is Imroz and last name is Ahmad\n"
     ]
    }
   ],
   "source": [
    "print(\"My first name is {first} and last name is {last}\".format(last=last_name,first=first_name))"
   ]
  },
  {
   "cell_type": "code",
   "execution_count": 2,
   "id": "d344d8f4",
   "metadata": {},
   "outputs": [
    {
     "data": {
      "text/plain": [
       "25"
      ]
     },
     "execution_count": 2,
     "metadata": {},
     "output_type": "execute_result"
    }
   ],
   "source": [
    "len(\"This is a thing of the it\")"
   ]
  },
  {
   "cell_type": "code",
   "execution_count": null,
   "id": "b97ceff4",
   "metadata": {},
   "outputs": [],
   "source": []
  }
 ],
 "metadata": {
  "kernelspec": {
   "display_name": "Python 3",
   "language": "python",
   "name": "python3"
  },
  "language_info": {
   "codemirror_mode": {
    "name": "ipython",
    "version": 3
   },
   "file_extension": ".py",
   "mimetype": "text/x-python",
   "name": "python",
   "nbconvert_exporter": "python",
   "pygments_lexer": "ipython3",
   "version": "3.8.8"
  }
 },
 "nbformat": 4,
 "nbformat_minor": 5
}
